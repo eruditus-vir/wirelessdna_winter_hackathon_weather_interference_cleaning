{
 "cells": [
  {
   "cell_type": "markdown",
   "source": [
    "# Cleaning of Raw Images (Digitalization)\n",
    "\n",
    "input: radars.yaml + aemet images (do we combine for 1 feature or not)\n",
    "output: Object of each image at certain time - make it possible to combine images of the same time\n",
    "\n",
    "## Classes\n",
    "Radar --> each radar from radars.yaml file --> ignore the metadata and use it as a comment\n",
    "RadarCollection --> contains all the Radar objects from that radars.yaml file\n",
    "\n",
    "PreprocessedImage -->\n",
    "Image that contain its radar information that has been\n",
    "It should have Radar Assoicated with the location\n",
    "\n",
    "PreprocessedImageMixed -->\n",
    "take in multiple ProcessedImage from different location but at the same time\n",
    "It should be a inherited item from PreprocessedImage\n",
    "\n",
    "PreprocessedImageCollection --> collection containing all the preprocessed image.\n"
   ],
   "metadata": {
    "collapsed": false,
    "pycharm": {
     "name": "#%% md\n"
    }
   }
  },
  {
   "cell_type": "code",
   "execution_count": null,
   "outputs": [],
   "source": [
    "from typing import Dict, List, Tuple\n",
    "from PIL import Image\n",
    "from datetime import datetime\n",
    "import glob\n",
    "from pathlib import Path\n",
    "import numpy as np"
   ],
   "metadata": {
    "collapsed": false,
    "pycharm": {
     "name": "#%%\n"
    }
   }
  },
  {
   "cell_type": "code",
   "execution_count": 166,
   "outputs": [],
   "source": [
    "def rgb2hex(r, g, b):\n",
    "    return '#{:02x}{:02x}{:02x}'.format(r, g, b).lower()"
   ],
   "metadata": {
    "collapsed": false,
    "pycharm": {
     "name": "#%%\n"
    }
   }
  },
  {
   "cell_type": "code",
   "execution_count": 147,
   "outputs": [],
   "source": [
    "class AemetColorScheme:\n",
    "    def __init__(self,\n",
    "                 color_hexes_set):\n",
    "        self.color_hexes_set = color_hexes_set\n",
    "\n",
    "    @classmethod\n",
    "    def from_cropped_image(cls,\n",
    "                           img: Image):\n",
    "        img = img.convert('RGB')\n",
    "        imgarray = np.array(img)\n",
    "        color_hexes_set = set()\n",
    "        print(img.size)\n",
    "        for x in range(img.width):\n",
    "            for y in range(img.height):\n",
    "                r, g, b = imgarray[y, x]\n",
    "                color_hexes_set.add(rgb2hex(r, g, b))\n",
    "        return AemetColorScheme(color_hexes_set)\n",
    "\n",
    "    @classmethod\n",
    "    def from_file_path(cls,\n",
    "                       file_path: str):\n",
    "        img = Image.open(file_path)\n",
    "        return cls.from_cropped_image(img)"
   ],
   "metadata": {
    "collapsed": false,
    "pycharm": {
     "name": "#%%\n"
    }
   }
  },
  {
   "cell_type": "code",
   "execution_count": 173,
   "outputs": [],
   "source": [
    "\n",
    "\n",
    "\n",
    "class Radar:\n",
    "\n",
    "    def __init__(self,\n",
    "                 rdr_code: str,\n",
    "                 latitude: float,\n",
    "                 longitude: float,\n",
    "                 radius: int,\n",
    "                 name: str):\n",
    "        self.rdr_code = rdr_code\n",
    "        self.latitude = latitude\n",
    "        self.longitude = longitude\n",
    "        self.radius = radius\n",
    "        self.name = name\n",
    "\n",
    "    @classmethod\n",
    "    def from_radar_dict(cls, radar_dict: Dict) -> 'Radar':\n",
    "        \"\"\"\n",
    "        rdr_code: 'cc'\n",
    "        latitude: 39.428820\n",
    "        longitude: -6.285380\n",
    "        radius: 240\n",
    "        name: 'Cáceres'\n",
    "        TODO: maybe moved the dict keys as class variables\n",
    "        :param radar_dict:\n",
    "        :return:\n",
    "        \"\"\"\n",
    "        return Radar(\n",
    "            rdr_code=radar_dict['rdr_code'],\n",
    "            latitude=radar_dict['latitude'],\n",
    "            longitude=radar_dict['longitude'],\n",
    "            radius=radar_dict['radius'],\n",
    "            name=radar_dict['name']\n",
    "        )\n",
    "\n",
    "\n",
    "class RadarCollection:\n",
    "    YAML_FILE_DATA_KEY = 'data'\n",
    "    YAML_FILE_METADATA_KEY = 'metadata'\n",
    "\n",
    "    def __init__(self,\n",
    "                 radars: List[Radar],\n",
    "                 meta_data_dict: Dict):\n",
    "        \"\"\"\n",
    "        TODO: maybe leave transform metadata into class\n",
    "        :param radars:\n",
    "        :param meta_data_dict:\n",
    "        \"\"\"\n",
    "        self.radars = radars\n",
    "        self.meta_data_dict = meta_data_dict\n",
    "\n",
    "    def to_dict(self) -> Dict[str, Radar]:  # list out radar code to radar\n",
    "        \"\"\"\n",
    "        :return:\n",
    "        \"\"\"\n",
    "        return {x.rdr_code: x for x in self.radars}\n",
    "\n",
    "    @classmethod\n",
    "    def from_file_path(cls, path: str) -> 'RadarCollection':\n",
    "        with open(path, 'r') as stream:\n",
    "            data_loaded = yaml.safe_load(stream)\n",
    "            lst_radar = []\n",
    "            for radar_key in data_loaded[RadarCollection.YAML_FILE_DATA_KEY].keys():\n",
    "                radar_dict = data_loaded[RadarCollection.YAML_FILE_DATA_KEY][radar_key]\n",
    "                radar = Radar.from_radar_dict(radar_dict)\n",
    "                lst_radar.append(radar)\n",
    "            return RadarCollection(\n",
    "                radars=lst_radar,\n",
    "                meta_data_dict=data_loaded[RadarCollection.YAML_FILE_METADATA_KEY]\n",
    "            )\n",
    "\n",
    "\n",
    "class PreprocessedImage:\n",
    "    mask_color_hexes = {\"#0000fc\",\"#0094fc\",\"#00fcfc\",\"#ffff00\",\"#ffbb00\",\"#fe7e01\",\"#ff0000\",\"#c8065a\",\"#00e200\"}\n",
    "\n",
    "    def __init__(self,\n",
    "                 file_path: str,\n",
    "                 image_taken_at: datetime,\n",
    "                 radar: Radar):\n",
    "        self.file_path = file_path\n",
    "        self.image_taken_at = image_taken_at\n",
    "        self.radar = radar\n",
    "        # we dont load these initially to save space\n",
    "        self.initial_mask = None  # phase 1 input\n",
    "        self.interference_removed_mask = None  # phase 1 output. phase 2 input?\n",
    "        self.reconstruction_mask = None  # final output\n",
    "        self.aemet_color_scheme = None  # we can auto detect this\n",
    "\n",
    "    def set_aemet_color_scheme(self,\n",
    "                               aemet_color_scheme: AemetColorScheme):\n",
    "        self.aemet_color_scheme = aemet_color_scheme\n",
    "\n",
    "    def set_initial_mask(self,\n",
    "                         initial_mask):\n",
    "        self.initial_mask = initial_mask\n",
    "\n",
    "    def set_interference_removed_mask(self,\n",
    "                                      interference_removed_mask):\n",
    "        self.interference_removed_mask = interference_removed_mask\n",
    "\n",
    "    def set_reconstruction_mask(self,\n",
    "                                reconstruction_mask):\n",
    "        self.reconstruction_mask = reconstruction_mask\n",
    "\n",
    "    def _load_image(self) -> Image:\n",
    "        return Image.open(self.file_path)\n",
    "\n",
    "    def _generate_circle_mask(self,\n",
    "                              h,\n",
    "                              w) -> np.array:\n",
    "        # implementation based on\n",
    "        # https://stackoverflow.com/questions/44865023/how-can-i-create-a-circular-mask-for-a-numpy-array\n",
    "        # TODO: center and radius need to be checked\n",
    "        center = (int(w / 2), int(h / 2))\n",
    "        radius = self.radar.radius\n",
    "        Y, X = np.ogrid[:h, :w]\n",
    "        dist_from_center = np.sqrt((X - center[0]) ** 2 + (Y - center[1]) ** 2)\n",
    "        mask = dist_from_center <= radius\n",
    "        return mask\n",
    "\n",
    "    def _mask_out_of_circle(self,\n",
    "                            img: Image) -> np.array:\n",
    "        img = img.convert(\"RGB\")\n",
    "        imgarray = np.array(img)\n",
    "        mask = self._generate_circle_mask(img.height, img.width)\n",
    "        imgarray[~mask, :] = 0\n",
    "        return imgarray\n",
    "\n",
    "    def _mask_out_none_reflection_color(self,\n",
    "                                        img: Image) -> np.array:\n",
    "        # if self.aemet_color_scheme is None:\n",
    "        #     self._generate_aemet_color_scheme()\n",
    "        img = img.convert(\"RGB\")\n",
    "        imgarray = np.array(img)\n",
    "        # there has to be a way better way to do this than a double loop with numpy\n",
    "        for x in range(img.width):\n",
    "            for y in range(img.height):\n",
    "                r, g, b = imgarray[x, y]\n",
    "                hex = rgb2hex(r, g, b)\n",
    "                if hex not in PreprocessedImage.mask_color_hexes:\n",
    "                    imgarray[x, y, :] = 255\n",
    "        return imgarray\n",
    "\n",
    "    def _generate_aemet_color_scheme(self):\n",
    "        \"\"\"\n",
    "        TODO: auto detect aemet color scheme in image and assign\n",
    "        :return:\n",
    "        \"\"\"\n",
    "        img = self._load_image()\n",
    "        img = img.convert(\"RGB\")\n",
    "        # 26, 371, 37, 478\n",
    "        cropped_img = img.crop((26, 371, 37, 478))\n",
    "        cropped_img.show()\n",
    "        self.set_aemet_color_scheme(AemetColorScheme.from_cropped_image(cropped_img))\n",
    "\n",
    "    def generate_initial_mask(self):\n",
    "        \"\"\"\n",
    "        this assume that the image is in aemet format\n",
    "        :return:\n",
    "        \"\"\"\n",
    "        raw_img = self._load_image()\n",
    "        raw_img.show()\n",
    "        cropped_img = raw_img.crop((0, 0, self.radar.radius * 2, self.radar.radius * 2))\n",
    "        masked_non_reflective_array = self._mask_out_none_reflection_color(cropped_img)\n",
    "        masked_non_reflective_img = Image.fromarray(masked_non_reflective_array, 'RGB')\n",
    "        masked_non_reflective_img.show()\n",
    "        initial_mask_array = self._mask_out_of_circle(masked_non_reflective_img)\n",
    "        initial_mask = Image.fromarray(initial_mask_array, 'RGB')\n",
    "        initial_mask.show()\n",
    "        raw_img.close()\n",
    "        cropped_img.close()\n",
    "        masked_non_reflective_img.close()\n",
    "        return initial_mask\n",
    "\n",
    "    def __str__(self):\n",
    "        return self.file_path\n",
    "\n",
    "    def __hash__(self):\n",
    "        return hash(self.file_path)\n",
    "\n",
    "    def __eq__(self, other):\n",
    "        if not isinstance(other, type(self)): return NotImplemented\n",
    "        return self.file_path == other.file_path\n",
    "\n",
    "    def __lt__(self, other):\n",
    "        if not isinstance(other, type(self)): return NotImplemented\n",
    "        return self.file_path < other.file_path\n",
    "\n",
    "    def __gt__(self, other):\n",
    "        if not isinstance(other, type(self)): return NotImplemented\n",
    "        return self.file_path > other.file_path\n",
    "\n",
    "    @staticmethod\n",
    "    def parse_file(file_name: str) -> Tuple[str, str]:\n",
    "        \"\"\"\n",
    "        parse base file name to get radar code name and datetime string  from file name\n",
    "        maybe use regex instead\n",
    "        :param file_name:\n",
    "        :return:\n",
    "        \"\"\"\n",
    "        file_name = os.path.basename(file_name)  # might not work for windows system\n",
    "        path_obj = Path(file_name)\n",
    "        extensions = \"\".join(path_obj.suffixes)\n",
    "        just_file_name = str(path_obj).replace(extensions, \"\")\n",
    "        splitted = just_file_name.split('_')\n",
    "        if len(splitted) != 3:\n",
    "            raise Exception('{} is not parsable'.format(just_file_name))\n",
    "        return splitted[1], splitted[2]\n",
    "\n",
    "    @classmethod\n",
    "    def from_file_path_and_radar_collection(cls,\n",
    "                                            file_path: str,\n",
    "                                            radar_collection: RadarCollection):\n",
    "        \"\"\"\n",
    "        Given Image and Radar, correctly process it in such a way that u can get a mask up\n",
    "        :param file_path:\n",
    "        :param radar_collection:\n",
    "        :return:\n",
    "        \"\"\"\n",
    "        radar_code, datetime_str = PreprocessedImage.parse_file(file_path)\n",
    "        radar_dict = radar_collection.to_dict()\n",
    "        if radar_code not in radar_dict.keys():\n",
    "            raise Exception(\"{} radar code is not in radars.yaml\".format(radar_code))\n",
    "        radar = radar_dict[radar_code]\n",
    "        image_taken_at = datetime.strptime(datetime_str, \"%Y%m%d%H%M\")\n",
    "        return PreprocessedImage(\n",
    "            file_path=file_path,\n",
    "            image_taken_at=image_taken_at,\n",
    "            radar=radar\n",
    "        )\n",
    "\n",
    "\n",
    "class PreprocessedImageCollection:\n",
    "    \"\"\"\n",
    "    may need to contain the metadata information but i havent think about how yet or what variables to introduce\n",
    "    \"\"\"\n",
    "\n",
    "    def __init__(self,\n",
    "                 preprocessed_images: List[PreprocessedImage]):\n",
    "        self.preprocessed_images = preprocessed_images\n",
    "\n",
    "    def size(self):\n",
    "        return len(self.preprocessed_images)\n",
    "\n",
    "    def set_aemet_color_scheme_to_all_images(self,\n",
    "                                             aemet_color_scheme: AemetColorScheme):\n",
    "        for pi in self.preprocessed_images:\n",
    "            pi.set_aemet_color_scheme(aemet_color_scheme)\n",
    "\n",
    "    def get_image(self, index: int):\n",
    "        return self.preprocessed_images[index]\n",
    "\n",
    "    def add_another_collection(self,\n",
    "                               collection: 'PreprocessedImageCollection') -> 'PreprocessedImageCollection':\n",
    "        \"\"\"\n",
    "        add without overlap\n",
    "        :param collection:\n",
    "        :return:\n",
    "        \"\"\"\n",
    "        return PreprocessedImageCollection(\n",
    "            list(set(self.preprocessed_images).union(set(collection.preprocessed_images))))\n",
    "\n",
    "    def filter_based_on_radar_code(self,\n",
    "                                   radar_code: str) -> 'PreprocessedImageCollection':\n",
    "\n",
    "        images = [pi for pi in self.preprocessed_images if pi.radar.rdr_code == radar_code]\n",
    "        return PreprocessedImageCollection(images)\n",
    "\n",
    "    def filter_based_on_before_and_after_datetime(self,\n",
    "                                                  before_dt: datetime,\n",
    "                                                  after_dt: datetime) -> 'PreprocessedImageCollection':\n",
    "        images = [pi for pi in self.preprocessed_images if after_dt <= pi.image_taken_at <= before_dt]\n",
    "        return PreprocessedImageCollection(images)\n",
    "\n",
    "    def filter_based_on_radar_code_and_time(self,\n",
    "                                            radar_code: str,\n",
    "                                            before_dt: datetime,\n",
    "                                            after_dt: datetime) -> 'PreprocessedImageCollection':\n",
    "        pic = self.filter_based_on_radar_code(radar_code)\n",
    "        pic = pic.filter_based_on_before_and_after_datetime(before_dt=before_dt,\n",
    "                                                            after_dt=after_dt)\n",
    "        return pic\n",
    "\n",
    "    @classmethod\n",
    "    def from_radar_collection_and_aemet_folders_path(cls,\n",
    "                                                     radar_collection: RadarCollection,\n",
    "                                                     aemet_folders_path: str) -> 'PreprocessedImageCollection':\n",
    "        \"\"\"\n",
    "        simply get all files --> file name should be in format {aemet}_{location}_{date_time_taken}.gif\n",
    "        :param radar_collection:\n",
    "        :param aemet_folders_path:\n",
    "        :return:\n",
    "        \"\"\"\n",
    "        all_gif_files = glob.glob(aemet_folders_path + '/**/*.gif', recursive=True)\n",
    "        preprocessed_images = []\n",
    "        for fname in all_gif_files:\n",
    "            try:\n",
    "                preprocessed_images.append(PreprocessedImage.from_file_path_and_radar_collection(file_path=fname,\n",
    "                                                                                                 radar_collection=radar_collection))\n",
    "            except Exception as e:\n",
    "                # TODO: figure out if we need to solve this or print as a check is enough\n",
    "                print(e)\n",
    "        return PreprocessedImageCollection(sorted(preprocessed_images))\n",
    "\n",
    "\n",
    "# not needed because u can just use file name\n",
    "def get_subdirectory_name_in_directory(d_name: str) -> List[str]:\n",
    "    return sorted([name for name in os.listdir(d_name) if os.path.isdir(os.path.join(*[d_name, name]))])\n",
    "\n",
    "\n",
    "class PreprocessedImageMixed(PreprocessedImage):\n",
    "    @classmethod\n",
    "    def from_preprocessed_images(self) -> 'PreprocessedImageMixed':\n",
    "        pass"
   ],
   "metadata": {
    "collapsed": false,
    "pycharm": {
     "name": "#%%\n"
    }
   }
  },
  {
   "cell_type": "code",
   "execution_count": 137,
   "outputs": [],
   "source": [],
   "metadata": {
    "collapsed": false,
    "pycharm": {
     "name": "#%%\n"
    }
   }
  },
  {
   "cell_type": "code",
   "execution_count": 133,
   "outputs": [],
   "source": [
    "import os\n",
    "import yaml\n",
    "\n",
    "data_path = os.path.join(os.path.dirname(os.path.realpath(os.getcwd())), 'data')\n",
    "aemet_folders_path = os.path.join(*[data_path, 'aemet', '10min'])\n",
    "radar_path = os.path.join(data_path, 'radars.yaml')\n",
    "aemet_color_scheme_path = os.path.join(data_path, 'aemet_color_scheme.png')\n",
    "\n",
    "\n"
   ],
   "metadata": {
    "collapsed": false,
    "pycharm": {
     "name": "#%%\n"
    }
   }
  },
  {
   "cell_type": "code",
   "execution_count": null,
   "outputs": [],
   "source": [
    "rc = RadarCollection.from_file_path(radar_path)"
   ],
   "metadata": {
    "collapsed": false,
    "pycharm": {
     "name": "#%%\n"
    }
   }
  },
  {
   "cell_type": "code",
   "execution_count": 174,
   "outputs": [],
   "source": [
    "pic = PreprocessedImageCollection.from_radar_collection_and_aemet_folders_path(rc, aemet_folders_path)\n",
    "# pic.set_aemet_color_scheme_to_all_images(aemet_color_scheme)"
   ],
   "metadata": {
    "collapsed": false,
    "pycharm": {
     "name": "#%%\n"
    }
   }
  },
  {
   "cell_type": "code",
   "execution_count": 175,
   "outputs": [
    {
     "data": {
      "text/plain": "<PIL.Image.Image image mode=RGB size=480x480>",
      "image/png": "[encoded data removed]"
     },
     "execution_count": 175,
     "metadata": {},
     "output_type": "execute_result"
    }
   ],
   "source": [
    "pic.get_image(0).generate_initial_mask()"
   ],
   "metadata": {
    "collapsed": false,
    "pycharm": {
     "name": "#%%\n"
    }
   }
  },
  {
   "cell_type": "code",
   "execution_count": 146,
   "outputs": [
    {
     "data": {
      "text/plain": "<PIL.GifImagePlugin.GifImageFile image mode=P size=480x530>",
      "image/png": "[encoded data removed]"
     },
     "execution_count": 146,
     "metadata": {},
     "output_type": "execute_result"
    }
   ],
   "source": [
    "Image.open(pic.get_image(0).file_path).crop()\n",
    "\n",
    "# 26, 371, 37, 478"
   ],
   "metadata": {
    "collapsed": false,
    "pycharm": {
     "name": "#%%\n"
    }
   }
  },
  {
   "cell_type": "code",
   "execution_count": 118,
   "outputs": [
    {
     "data": {
      "text/plain": "'/Users/wit/DataspellProjects/winter_school_hackathon/data/aemet/10min/pm/20220228/aemet_pm_202202282340.gif'"
     },
     "execution_count": 118,
     "metadata": {},
     "output_type": "execute_result"
    }
   ],
   "source": [
    "pic.get_image(0).file_path"
   ],
   "metadata": {
    "collapsed": false,
    "pycharm": {
     "name": "#%%\n"
    }
   }
  },
  {
   "cell_type": "code",
   "execution_count": null,
   "outputs": [],
   "source": [
    "# #0404CD #0000FC #0000F2 #73F8FA #43661C  #66DE42 #66DE42 #FFFF54 #F5BE41\n",
    "# #73F8FA #73F8FA\n",
    "# color code 72, 36, 60 all are weird in some pic\n",
    "# #D02D37\n",
    "# 66 #D02D37\n",
    "# weird 60 orange #F5BE41 #EE8532\n",
    "# weird 36 greeens #538133 #54A22F"
   ],
   "metadata": {
    "collapsed": false,
    "pycharm": {
     "name": "#%%\n"
    }
   }
  },
  {
   "cell_type": "code",
   "execution_count": 68,
   "outputs": [
    {
     "ename": "AttributeError",
     "evalue": "'PreprocessedImage' object has no attribute '_load_image'",
     "output_type": "error",
     "traceback": [
      "\u001B[0;31m---------------------------------------------------------------------------\u001B[0m",
      "\u001B[0;31mAttributeError\u001B[0m                            Traceback (most recent call last)",
      "Cell \u001B[0;32mIn[68], line 1\u001B[0m\n\u001B[0;32m----> 1\u001B[0m raw_img \u001B[38;5;241m=\u001B[39m \u001B[43mpic\u001B[49m\u001B[38;5;241;43m.\u001B[39;49m\u001B[43mget_image\u001B[49m\u001B[43m(\u001B[49m\u001B[38;5;241;43m0\u001B[39;49m\u001B[43m)\u001B[49m\u001B[38;5;241;43m.\u001B[39;49m\u001B[43m_load_image\u001B[49m()\n\u001B[1;32m      4\u001B[0m \u001B[38;5;66;03m# # left, upper, right, and lower\u001B[39;00m\n\u001B[1;32m      5\u001B[0m \u001B[38;5;66;03m# # get the cropped image\u001B[39;00m\n\u001B[1;32m      6\u001B[0m \u001B[38;5;66;03m# cropped_img = raw_img.crop(0, 0, self.radar.radius, self.radar.radius)\u001B[39;00m\n\u001B[0;32m   (...)\u001B[0m\n\u001B[1;32m     11\u001B[0m \u001B[38;5;66;03m# \u001B[39;00m\n\u001B[1;32m     12\u001B[0m \u001B[38;5;66;03m# raw_img.close()\u001B[39;00m\n",
      "\u001B[0;31mAttributeError\u001B[0m: 'PreprocessedImage' object has no attribute '_load_image'"
     ]
    }
   ],
   "source": [
    "\n",
    "\n",
    "raw_img = pic.get_image(0)._load_image()\n",
    "\n",
    "# # left, upper, right, and lower\n",
    "# # get the cropped image\n",
    "# cropped_img = raw_img.crop(0, 0, self.radar.radius, self.radar.radius)\n",
    "#\n",
    "# # mask the out of circle\n",
    "#\n",
    "# # mask\n",
    "#\n",
    "# raw_img.close()"
   ],
   "metadata": {
    "collapsed": false,
    "pycharm": {
     "name": "#%%\n"
    }
   }
  }
 ],
 "metadata": {
  "kernelspec": {
   "display_name": "Python 3",
   "language": "python",
   "name": "python3"
  },
  "language_info": {
   "codemirror_mode": {
    "name": "ipython",
    "version": 2
   },
   "file_extension": ".py",
   "mimetype": "text/x-python",
   "name": "python",
   "nbconvert_exporter": "python",
   "pygments_lexer": "ipython2",
   "version": "2.7.6"
  }
 },
 "nbformat": 4,
 "nbformat_minor": 0
}