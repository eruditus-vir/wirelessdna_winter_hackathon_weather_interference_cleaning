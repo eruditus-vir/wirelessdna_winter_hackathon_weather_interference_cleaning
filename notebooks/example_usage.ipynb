{
 "cells": [
  {
   "cell_type": "code",
   "execution_count": 4,
   "outputs": [
    {
     "name": "stdout",
     "output_type": "stream",
     "text": [
      "The autoreload extension is already loaded. To reload it, use:\n",
      "  %reload_ext autoreload\n"
     ]
    }
   ],
   "source": [
    "# for auto reload when you are working\n",
    "%load_ext autoreload\n",
    "%autoreload 2"
   ],
   "metadata": {
    "collapsed": false,
    "pycharm": {
     "name": "#%%\n"
    }
   }
  },
  {
   "cell_type": "code",
   "execution_count": 5,
   "outputs": [],
   "source": [
    "# in case your path does not register source\n",
    "import sys\n",
    "import os\n",
    "# you should now be able to import src\n",
    "# go to parent dir\n",
    "# otherwise try os.path.join(os.path.dirname(os.path.realpath(os.getcwd())), 'src')\n",
    "sys.path.append(os.path.dirname(os.path.realpath(os.getcwd())))\n",
    "from src.radar import RadarCollection  # this should not throw error\n",
    "from src.preprocessed_image import PreprocessedImageCollection"
   ],
   "metadata": {
    "collapsed": false,
    "pycharm": {
     "name": "#%%\n"
    }
   }
  },
  {
   "cell_type": "code",
   "execution_count": 10,
   "outputs": [],
   "source": [
    "data_path = os.path.join(os.path.dirname(os.path.realpath(os.getcwd())), 'data')\n",
    "aemet_folders_path = os.path.join(*[data_path, 'aemet', '10min'])\n",
    "radar_path = os.path.join(data_path, 'radars.yaml')\n",
    "aemet_color_scheme_path = os.path.join(data_path, 'aemet_color_scheme.png')\n",
    "\n",
    "\n"
   ],
   "metadata": {
    "collapsed": false,
    "pycharm": {
     "name": "#%%\n"
    }
   }
  },
  {
   "cell_type": "code",
   "execution_count": 11,
   "outputs": [],
   "source": [
    "rc = RadarCollection.from_file_path(radar_path)\n",
    "pic = PreprocessedImageCollection.from_radar_collection_and_aemet_folders_path(rc, aemet_folders_path)"
   ],
   "metadata": {
    "collapsed": false,
    "pycharm": {
     "name": "#%%\n"
    }
   }
  },
  {
   "cell_type": "code",
   "execution_count": 15,
   "outputs": [
    {
     "data": {
      "text/plain": "<PIL.Image.Image image mode=RGB size=480x480>",
      "image/png": "[encoded data removed]"
     },
     "execution_count": 15,
     "metadata": {},
     "output_type": "execute_result"
    }
   ],
   "source": [
    "pic.get_image(4).generate_initial_mask()"
   ],
   "metadata": {
    "collapsed": false,
    "pycharm": {
     "name": "#%%\n"
    }
   }
  },
  {
   "cell_type": "code",
   "execution_count": null,
   "outputs": [],
   "source": [],
   "metadata": {
    "collapsed": false,
    "pycharm": {
     "name": "#%%\n"
    }
   }
  }
 ],
 "metadata": {
  "kernelspec": {
   "display_name": "Python 3",
   "language": "python",
   "name": "python3"
  },
  "language_info": {
   "codemirror_mode": {
    "name": "ipython",
    "version": 2
   },
   "file_extension": ".py",
   "mimetype": "text/x-python",
   "name": "python",
   "nbconvert_exporter": "python",
   "pygments_lexer": "ipython2",
   "version": "2.7.6"
  }
 },
 "nbformat": 4,
 "nbformat_minor": 0
}