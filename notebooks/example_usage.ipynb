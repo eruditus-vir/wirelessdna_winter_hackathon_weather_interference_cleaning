{
 "cells": [
  {
   "cell_type": "code",
   "execution_count": 4,
   "outputs": [
    {
     "name": "stdout",
     "output_type": "stream",
     "text": [
      "The autoreload extension is already loaded. To reload it, use:\n",
      "  %reload_ext autoreload\n"
     ]
    }
   ],
   "source": [
    "# for auto reload when you are working\n",
    "%load_ext autoreload\n",
    "%autoreload 2"
   ],
   "metadata": {
    "collapsed": false
   }
  },
  {
   "cell_type": "code",
   "execution_count": 2,
   "outputs": [],
   "source": [
    "# in case your path does not register source\n",
    "import sys\n",
    "import os\n",
    "# you should now be able to import src\n",
    "# go to parent dir\n",
    "# otherwise try os.path.join(os.path.dirname(os.path.realpath(os.getcwd())), 'src')\n",
    "sys.path.append(os.path.dirname(os.path.realpath(os.getcwd())))\n",
    "from src.radar import RadarCollection  # this should not throw error\n",
    "from src.preprocessed_image import PreprocessedImageCollection"
   ],
   "metadata": {
    "collapsed": false
   }
  },
  {
   "cell_type": "code",
   "execution_count": 3,
   "outputs": [],
   "source": [
    "data_path = os.path.join(os.path.dirname(os.path.realpath(os.getcwd())), 'data')\n",
    "aemet_folders_path = os.path.join(*[data_path, 'aemet', '10min'])\n",
    "radar_path = os.path.join(data_path, 'radars.yaml')\n",
    "aemet_color_scheme_path = os.path.join(data_path, 'aemet_color_scheme.png')\n",
    "\n",
    "\n"
   ],
   "metadata": {
    "collapsed": false
   }
  },
  {
   "cell_type": "code",
   "execution_count": 4,
   "outputs": [
    {
     "ename": "FileNotFoundError",
     "evalue": "[Errno 2] No such file or directory: '/home/ulhaqi12/Desktop/hackathon/wirelessdna_winter_hackathon_weather_interference_cleaning/data/radars.yaml'",
     "output_type": "error",
     "traceback": [
      "\u001B[0;31m---------------------------------------------------------------------------\u001B[0m",
      "\u001B[0;31mFileNotFoundError\u001B[0m                         Traceback (most recent call last)",
      "Cell \u001B[0;32mIn[4], line 1\u001B[0m\n\u001B[0;32m----> 1\u001B[0m rc \u001B[38;5;241m=\u001B[39m \u001B[43mRadarCollection\u001B[49m\u001B[38;5;241;43m.\u001B[39;49m\u001B[43mfrom_file_path\u001B[49m\u001B[43m(\u001B[49m\u001B[43mradar_path\u001B[49m\u001B[43m)\u001B[49m\n\u001B[1;32m      2\u001B[0m pic \u001B[38;5;241m=\u001B[39m PreprocessedImageCollection\u001B[38;5;241m.\u001B[39mfrom_radar_collection_and_aemet_folders_path(rc, aemet_folders_path)\n",
      "File \u001B[0;32m~/Desktop/hackathon/wirelessdna_winter_hackathon_weather_interference_cleaning/src/radar.py:69\u001B[0m, in \u001B[0;36mRadarCollection.from_file_path\u001B[0;34m(cls, path)\u001B[0m\n\u001B[1;32m     67\u001B[0m \u001B[38;5;129m@classmethod\u001B[39m\n\u001B[1;32m     68\u001B[0m \u001B[38;5;28;01mdef\u001B[39;00m \u001B[38;5;21mfrom_file_path\u001B[39m(\u001B[38;5;28mcls\u001B[39m, path: \u001B[38;5;28mstr\u001B[39m) \u001B[38;5;241m-\u001B[39m\u001B[38;5;241m>\u001B[39m \u001B[38;5;124m'\u001B[39m\u001B[38;5;124mRadarCollection\u001B[39m\u001B[38;5;124m'\u001B[39m:\n\u001B[0;32m---> 69\u001B[0m     \u001B[38;5;28;01mwith\u001B[39;00m \u001B[38;5;28;43mopen\u001B[39;49m\u001B[43m(\u001B[49m\u001B[43mpath\u001B[49m\u001B[43m,\u001B[49m\u001B[43m \u001B[49m\u001B[38;5;124;43m'\u001B[39;49m\u001B[38;5;124;43mr\u001B[39;49m\u001B[38;5;124;43m'\u001B[39;49m\u001B[43m)\u001B[49m \u001B[38;5;28;01mas\u001B[39;00m stream:\n\u001B[1;32m     70\u001B[0m         data_loaded \u001B[38;5;241m=\u001B[39m yaml\u001B[38;5;241m.\u001B[39msafe_load(stream)\n\u001B[1;32m     71\u001B[0m         lst_radar \u001B[38;5;241m=\u001B[39m []\n",
      "\u001B[0;31mFileNotFoundError\u001B[0m: [Errno 2] No such file or directory: '/home/ulhaqi12/Desktop/hackathon/wirelessdna_winter_hackathon_weather_interference_cleaning/data/radars.yaml'"
     ]
    }
   ],
   "source": [
    "rc = RadarCollection.from_file_path(radar_path)\n",
    "pic = PreprocessedImageCollection.from_radar_collection_and_aemet_folders_path(rc, aemet_folders_path)"
   ],
   "metadata": {
    "collapsed": false
   }
  },
  {
   "cell_type": "code",
   "execution_count": 5,
   "outputs": [
    {
     "ename": "NameError",
     "evalue": "name 'pic' is not defined",
     "output_type": "error",
     "traceback": [
      "\u001B[0;31m---------------------------------------------------------------------------\u001B[0m",
      "\u001B[0;31mNameError\u001B[0m                                 Traceback (most recent call last)",
      "Cell \u001B[0;32mIn[5], line 1\u001B[0m\n\u001B[0;32m----> 1\u001B[0m \u001B[43mpic\u001B[49m\u001B[38;5;241m.\u001B[39mget_image(\u001B[38;5;241m300\u001B[39m)\u001B[38;5;241m.\u001B[39mgenerate_initial_mask()\n",
      "\u001B[0;31mNameError\u001B[0m: name 'pic' is not defined"
     ]
    }
   ],
   "source": [
    "pic.get_image(300).generate_initial_mask()"
   ],
   "metadata": {
    "collapsed": false
   }
  },
  {
   "cell_type": "code",
   "execution_count": null,
   "outputs": [],
   "source": [],
   "metadata": {
    "collapsed": false
   }
  }
 ],
 "metadata": {
  "kernelspec": {
   "display_name": "Python 3",
   "language": "python",
   "name": "python3"
  },
  "language_info": {
   "codemirror_mode": {
    "name": "ipython",
    "version": 2
   },
   "file_extension": ".py",
   "mimetype": "text/x-python",
   "name": "python",
   "nbconvert_exporter": "python",
   "pygments_lexer": "ipython2",
   "version": "2.7.6"
  }
 },
 "nbformat": 4,
 "nbformat_minor": 0
}
